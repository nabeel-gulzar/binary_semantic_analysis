{
  "nbformat": 4,
  "nbformat_minor": 0,
  "metadata": {
    "kernelspec": {
      "display_name": "Python 3",
      "language": "python",
      "name": "python3"
    },
    "language_info": {
      "codemirror_mode": {
        "name": "ipython",
        "version": 3
      },
      "file_extension": ".py",
      "mimetype": "text/x-python",
      "name": "python",
      "nbconvert_exporter": "python",
      "pygments_lexer": "ipython3",
      "version": "3.6.9"
    },
    "colab": {
      "name": "Binary_Sentiment_Analysis.ipynb",
      "provenance": [],
      "collapsed_sections": [],
      "include_colab_link": true
    }
  },
  "cells": [
    {
      "cell_type": "markdown",
      "metadata": {
        "id": "view-in-github",
        "colab_type": "text"
      },
      "source": [
        "<a href=\"https://colab.research.google.com/github/nabeel-gulzar/binary_semantic_analysis/blob/main/Binary_Sentiment_Analysis.ipynb\" target=\"_parent\"><img src=\"https://colab.research.google.com/assets/colab-badge.svg\" alt=\"Open In Colab\"/></a>"
      ]
    },
    {
      "cell_type": "code",
      "metadata": {
        "id": "TzCIhMBGd1gF"
      },
      "source": [
        "%pip install gdown\n",
        "!gdown --id '1n0j5zbMXMVnLPUqadFNcCxiZRu0ChoXL'\n",
        "!unzip Programming_Assignment_3.zip"
      ],
      "execution_count": null,
      "outputs": []
    },
    {
      "cell_type": "markdown",
      "metadata": {
        "id": "Juv90ByW4QC2"
      },
      "source": [
        "# Imports"
      ]
    },
    {
      "cell_type": "code",
      "metadata": {
        "id": "kDiT1cu_eEvj"
      },
      "source": [
        "import glob\n",
        "import re\n",
        "import numpy as np\n",
        "import pandas as pd\n",
        "from pathlib import Path\n",
        "from time import time\n",
        "from matplotlib import pyplot as plt\n",
        "from math import floor"
      ],
      "execution_count": null,
      "outputs": []
    },
    {
      "cell_type": "markdown",
      "metadata": {
        "id": "uRt-HbQc4Na3"
      },
      "source": [
        "# Constants"
      ]
    },
    {
      "cell_type": "code",
      "metadata": {
        "id": "--grvi-s4JlR"
      },
      "source": [
        "train_dir = 'Dataset/train/'\n",
        "test_dir = 'Dataset/test/'\n",
        "neg_words_path = 'Dataset/negative_words.txt'\n",
        "pos_words_path = 'Dataset/positive_words.txt'\n",
        "stop_words_path = 'Dataset/stop_words.txt'\n",
        "\n",
        "neg_words = list()\n",
        "pos_words = list()\n",
        "stop_words = list()\n",
        "\n",
        "# regex to remove punctuations\n",
        "garbage_words_re = r\"[();:',.\\/@#$%*+!`^_0-9><\\\"]*\""
      ],
      "execution_count": null,
      "outputs": []
    },
    {
      "cell_type": "code",
      "metadata": {
        "id": "ByjIyPEgd1gT"
      },
      "source": [
        "#reading auxilary data from files\n",
        "with open(pos_words_path, 'r') as file:\n",
        "  pos_words = file.read().split('\\n')\n",
        "with open(neg_words_path, 'r', encoding='Latin-1') as file:\n",
        "  neg_words = file.read().split('\\n')\n",
        "with open(stop_words_path, 'r') as file:\n",
        "  stop_words = file.read().split('\\n')"
      ],
      "execution_count": null,
      "outputs": []
    },
    {
      "cell_type": "code",
      "metadata": {
        "id": "w4lD8Nh1d1gX"
      },
      "source": [
        "def preprocess_review(review):\n",
        "  # split words and filter words that are not in stop words\n",
        "  without_stop_words = ' '.join([token for token in review.split() if token not in stop_words])\n",
        "  return re.sub(garbage_words_re, '', without_stop_words)"
      ],
      "execution_count": null,
      "outputs": []
    },
    {
      "cell_type": "code",
      "metadata": {
        "id": "O0LmiyYWd1gg"
      },
      "source": [
        "def extract_features(directory):\n",
        "  features = list()\n",
        "  labels = list()\n",
        "  for filename in glob.iglob(directory + '*/*.txt', recursive=True):\n",
        "    with open(filename, 'r') as file:\n",
        "      features.append([1,0,0])\n",
        "      review = file.read()\n",
        "      review = preprocess_review(review)\n",
        "      for token in review.split():\n",
        "        if token in pos_words:\n",
        "          # if the word is in positive words list then increment x1 \n",
        "          features[-1][1] = features[-1][1]+1\n",
        "        elif token in neg_words:\n",
        "          # if the word is in negative words list then increment x2\n",
        "          features[-1][2] = features[-1][2]+1\n",
        "      if filename.split('/')[-2] == 'pos':\n",
        "        # if review if positive, add label 1\n",
        "        labels.append(1)\n",
        "      else:\n",
        "        # if review if negative, add label 0\n",
        "        labels.append(0)\n",
        "  return np.array(features), np.array(labels)"
      ],
      "execution_count": null,
      "outputs": []
    },
    {
      "cell_type": "markdown",
      "metadata": {
        "id": "nvbTsdsV5w4u"
      },
      "source": [
        "# Feature Extraction and Preprocessing"
      ]
    },
    {
      "cell_type": "code",
      "metadata": {
        "id": "mBNX8i-l5sWV",
        "outputId": "c2e35919-2bc6-4060-f2d7-ba77bc107804",
        "colab": {
          "base_uri": "https://localhost:8080/"
        }
      },
      "source": [
        "start_time = time()\n",
        "train_X, train_Y = extract_features(train_dir)\n",
        "print(\"Time taken to extract training features: {:.2f} seconds\".format(time()-start_time))\n",
        "\n",
        "start_time = time()\n",
        "test_X, test_Y = extract_features(test_dir)\n",
        "print(\"Time taken to extract test features: {:.2f} seconds\".format(time()-start_time))"
      ],
      "execution_count": null,
      "outputs": [
        {
          "output_type": "stream",
          "text": [
            "Time taken to extract training features: 222.45 seconds\n",
            "Time taken to extract test features: 217.82 seconds\n"
          ],
          "name": "stdout"
        }
      ]
    },
    {
      "cell_type": "code",
      "metadata": {
        "id": "R3B0r2cUuFjp"
      },
      "source": [
        "def sigmoid(x):\n",
        "  return 1/(1+np.exp(-x))\n",
        "def predict(features, thetas):\n",
        "  predicted = np.matmul(features, np.transpose(thetas))\n",
        "  return sigmoid(predicted)\n",
        "def cost(actual, predicted):\n",
        "  # cross entropy loss\n",
        "  return ((-actual*np.log(predicted))-((1-actual)*np.log(1-predicted))).mean()"
      ],
      "execution_count": null,
      "outputs": []
    },
    {
      "cell_type": "code",
      "metadata": {
        "id": "vILdWdbPz8AA"
      },
      "source": [
        "def gradient_descent(training_data, actual_labels, alpha, iterations):\n",
        "  # initialize thetas\n",
        "  thetas = np.array([0,0,0])\n",
        "  # get training examples count\n",
        "  training_size = actual_labels.size\n",
        "  # initialize list to hold costs\n",
        "  J = list()\n",
        "  # iteration loop\n",
        "  for i in range(iterations):\n",
        "    # predict labels\n",
        "    predicted_labels = predict(features=training_data, thetas=thetas)\n",
        "    # append cost to the list of cost\n",
        "    J.append(cost(actual=actual_labels, predicted=predicted_labels))\n",
        "    # difference in actual and predicted value\n",
        "    error = predicted_labels-actual_labels\n",
        "    # sum of derivative w.r.t each theta\n",
        "    sum_derivative = np.matmul(error, training_data)\n",
        "    # simulteneous update of thetas\n",
        "    thetas = thetas - ((alpha/training_size)*sum_derivative)\n",
        "  # prediction with the optimal thetas\n",
        "  predicted_labels = predict(features=training_data, thetas=thetas)\n",
        "  # cost with the optimal thetas\n",
        "  J.append(cost(actual=actual_labels, predicted=predicted_labels))\n",
        "  return thetas, J"
      ],
      "execution_count": null,
      "outputs": []
    },
    {
      "cell_type": "code",
      "metadata": {
        "id": "XeUYOtFTZI3q"
      },
      "source": [
        "def plot_cost(J, xlabel='Iteration', ylabel='Cost', title='Cost w.r.t iteration', xvalues=None):\n",
        "    fig, ax = plt.subplots()\n",
        "    # resize the figure\n",
        "    fig.set_size_inches(16, 12)\n",
        "    # set title\n",
        "    ax.set_title(title)\n",
        "    # set label of y axis\n",
        "    plt.ylabel(ylabel)\n",
        "    # set label of x axis\n",
        "    plt.xlabel(xlabel)\n",
        "    # check if values for x are provided to add custom ticks on x-axis\n",
        "    if xvalues is None:\n",
        "        xvalues = [i for i in range(len(J))]\n",
        "    xticks = list(set([floor(v) for v in xvalues]))\n",
        "    if len(xticks) > 10:\n",
        "        np.arange(min(xticks), max(xvalues)+1, len(xticks)//10)\n",
        "    plt.xticks()\n",
        "    plt.plot(xvalues, J, '-')"
      ],
      "execution_count": null,
      "outputs": []
    },
    {
      "cell_type": "code",
      "metadata": {
        "id": "0EMnbMb4dUFP"
      },
      "source": [
        "def assign_labels(raw_predictions):\n",
        "  # assigns 1 if probability of 1 is greater than 1 otherwise 0\n",
        "  f = lambda x: 1 if x > 0.5 else 0\n",
        "  # vectorize the function f\n",
        "  vf = np.vectorize(f)\n",
        "  return vf(raw_predictions)"
      ],
      "execution_count": null,
      "outputs": []
    },
    {
      "cell_type": "code",
      "metadata": {
        "id": "cKKIUOGrUP7v"
      },
      "source": [
        "def generate_confusion_matrix(gold, prediction, labels):\n",
        "    \"\"\"\n",
        "    generates a confusion matrix\n",
        "    Params:\n",
        "    gold - vector of true labels\n",
        "    predicted - vector of predicted labels\n",
        "    labels: list of distinct labels\n",
        "    Returns:\n",
        "    confusion matrix with shape (label count X label count)\n",
        "    \"\"\"\n",
        "    if len(gold) != len(prediction):\n",
        "        print('label arrays should have same size')\n",
        "        return\n",
        "    label_count = len(labels)\n",
        "    cm = np.zeros((label_count, label_count))\n",
        "    for i in range(len(prediction)):\n",
        "        cm[labels.index(prediction[i])][labels.index(gold[i])] += 1\n",
        "    return cm\n",
        "def compute_macro_average(prediction, gold, labels):\n",
        "    \"\"\"\n",
        "    computes macro average (precision, recall, f1) confusion_matrix and accuracy\n",
        "    Params:\n",
        "    prediction - vector of predicted labels\n",
        "    gold - vector of true labels\n",
        "    labels: list of distinct labels\n",
        "    Returns:\n",
        "    dictionary of {precision, recall, f1, confusion_matrix, accuracy}\n",
        "    \"\"\"\n",
        "    if len(gold) != len(prediction):\n",
        "        print('label arrays should have same size')\n",
        "        return\n",
        "    label_count = len(labels)\n",
        "    cm = generate_confusion_matrix(gold, prediction, labels)\n",
        "    precision = 0\n",
        "    recall = 0\n",
        "    accuracy = 0\n",
        "    for i in range(label_count):\n",
        "        negatives = [n for n in range(label_count) if n != i]\n",
        "        tp = cm[i][i]\n",
        "        fn = np.array([cm[j][i] for j in negatives]).sum()\n",
        "        fp = np.array([cm[i][j] for j in negatives]).sum()\n",
        "        tn = np.array([np.array([cm[j][k] for j in negatives]).sum() for k in negatives]).sum()\n",
        "\n",
        "        precision += (tp/(tp+fp))\n",
        "        recall += (tp/(tp+fn))\n",
        "        accuracy += tp\n",
        "    accuracy = accuracy/len(prediction)\n",
        "    macro_avg_precision = precision/label_count\n",
        "    macro_avg_recall = recall/label_count\n",
        "    f1_score = (2*macro_avg_precision*macro_avg_recall)/(macro_avg_precision+macro_avg_recall)\n",
        "    return {'f1': f1_score,\n",
        "            'precision': macro_avg_precision,\n",
        "            'recall': macro_avg_recall,\n",
        "            'accuracy': accuracy,\n",
        "            'confusion_matrix': cm}"
      ],
      "execution_count": null,
      "outputs": []
    },
    {
      "cell_type": "code",
      "metadata": {
        "id": "rkbj2Z0aufe2",
        "outputId": "9a45c807-4120-4e75-dea9-1d59f10c3945",
        "colab": {
          "base_uri": "https://localhost:8080/",
          "height": 730
        }
      },
      "source": [
        "# learning rate\n",
        "alpha = 0.0005\n",
        "# number of iterations\n",
        "iterations = 1500\n",
        "# function call to gradient descent functions\n",
        "thetas, J = gradient_descent(training_data=train_X, actual_labels=train_Y, alpha=alpha, iterations=iterations)\n",
        "# plot the cost with respect to iteration \n",
        "plot_cost(J)"
      ],
      "execution_count": null,
      "outputs": [
        {
          "output_type": "display_data",
          "data": {
            "image/png": "[encoded data removed]",
            "text/plain": [
              "<Figure size 1152x864 with 1 Axes>"
            ]
          },
          "metadata": {
            "tags": [],
            "needs_background": "light"
          }
        }
      ]
    },
    {
      "cell_type": "markdown",
      "metadata": {
        "id": "NWFcuYF3uyJ1"
      },
      "source": [
        "# Performance on Test Data"
      ]
    },
    {
      "cell_type": "code",
      "metadata": {
        "id": "R9tPUSJ4kSVX",
        "outputId": "ebcbabc9-2807-40bf-c825-f1203e88566d",
        "colab": {
          "base_uri": "https://localhost:8080/"
        }
      },
      "source": [
        "# prediction on the test features\n",
        "predicted = predict(features=test_X, thetas=thetas)\n",
        "# assign actual labels by applying threshold > 0.5\n",
        "predicted = assign_labels(predicted)\n",
        "# compute performance metrics and confusion matrix\n",
        "perf = compute_macro_average(prediction=predicted, gold=test_Y, labels=[0,1])\n",
        "print(\"Accuracy: {:.4f}\".format(perf['accuracy']))\n",
        "print(\"F1: {:.4f}\".format(perf['f1']))\n",
        "print(\"Precision: {:.4f}\".format(perf['precision']))\n",
        "print(\"Recall: {:.4f}\".format(perf['recall']))"
      ],
      "execution_count": null,
      "outputs": [
        {
          "output_type": "stream",
          "text": [
            "Accuracy: 0.7284\n",
            "F1: 0.7286\n",
            "Precision: 0.7287\n",
            "Recall: 0.7284\n"
          ],
          "name": "stdout"
        }
      ]
    },
    {
      "cell_type": "code",
      "metadata": {
        "id": "SdY6zEaXljV2",
        "outputId": "f198437a-a8fc-49ae-bc28-1295403213cf",
        "colab": {
          "base_uri": "https://localhost:8080/",
          "height": 107
        }
      },
      "source": [
        "pd.DataFrame(data=perf['confusion_matrix'], columns=[\"Negative\",\"Positive\"], index=[\"Negative\",\"Positive\"])"
      ],
      "execution_count": null,
      "outputs": [
        {
          "output_type": "execute_result",
          "data": {
            "text/html": [
              "<div>\n",
              "<style scoped>\n",
              "    .dataframe tbody tr th:only-of-type {\n",
              "        vertical-align: middle;\n",
              "    }\n",
              "\n",
              "    .dataframe tbody tr th {\n",
              "        vertical-align: top;\n",
              "    }\n",
              "\n",
              "    .dataframe thead th {\n",
              "        text-align: right;\n",
              "    }\n",
              "</style>\n",
              "<table border=\"1\" class=\"dataframe\">\n",
              "  <thead>\n",
              "    <tr style=\"text-align: right;\">\n",
              "      <th></th>\n",
              "      <th>Negative</th>\n",
              "      <th>Positive</th>\n",
              "    </tr>\n",
              "  </thead>\n",
              "  <tbody>\n",
              "    <tr>\n",
              "      <th>Negative</th>\n",
              "      <td>8877.0</td>\n",
              "      <td>3167.0</td>\n",
              "    </tr>\n",
              "    <tr>\n",
              "      <th>Positive</th>\n",
              "      <td>3623.0</td>\n",
              "      <td>9333.0</td>\n",
              "    </tr>\n",
              "  </tbody>\n",
              "</table>\n",
              "</div>"
            ],
            "text/plain": [
              "          Negative  Positive\n",
              "Negative    8877.0    3167.0\n",
              "Positive    3623.0    9333.0"
            ]
          },
          "metadata": {
            "tags": []
          },
          "execution_count": 331
        }
      ]
    },
    {
      "cell_type": "markdown",
      "metadata": {
        "id": "7crdSAohq9Hd"
      },
      "source": [
        "# Part 2: Logistic Regressions Using sklearn API"
      ]
    },
    {
      "cell_type": "code",
      "metadata": {
        "id": "iEnr0YdarRow"
      },
      "source": [
        "from sklearn.linear_model import LogisticRegression\n",
        "from sklearn.metrics import accuracy_score, confusion_matrix"
      ],
      "execution_count": null,
      "outputs": []
    },
    {
      "cell_type": "code",
      "metadata": {
        "id": "0NXXNNKIrTvm",
        "outputId": "487f1e0f-8663-4961-9d0b-9bca902cd989",
        "colab": {
          "base_uri": "https://localhost:8080/"
        }
      },
      "source": [
        "start_time = time()\n",
        "#training function of sklearn logistic regression\n",
        "lr = LogisticRegression().fit(train_X, train_Y)\n",
        "print(\"Time taken to train with sklearn: {:.2f} seconds\".format(time()-start_time))\n",
        "prediction = lr.predict(test_X)\n",
        "accuracy = accuracy_score(test_Y, prediction)\n",
        "print(\"Accuracy on test: {}\".format(accuracy))"
      ],
      "execution_count": null,
      "outputs": [
        {
          "output_type": "stream",
          "text": [
            "Time taken to train with sklearn: 0.05 seconds\n",
            "Accuracy on test: 0.72544\n"
          ],
          "name": "stdout"
        }
      ]
    },
    {
      "cell_type": "code",
      "metadata": {
        "id": "mm1XGDrRwdYZ",
        "outputId": "95cdb328-666a-49b7-c76b-36b441f66115",
        "colab": {
          "base_uri": "https://localhost:8080/",
          "height": 107
        }
      },
      "source": [
        "confusion_mat = confusion_matrix(test_Y, prediction, [0,1])\n",
        "pd.DataFrame(data=confusion_mat, columns=[\"Negative\",\"Positive\"], index=[\"Negative\",\"Positive\"])"
      ],
      "execution_count": null,
      "outputs": [
        {
          "output_type": "execute_result",
          "data": {
            "text/html": [
              "<div>\n",
              "<style scoped>\n",
              "    .dataframe tbody tr th:only-of-type {\n",
              "        vertical-align: middle;\n",
              "    }\n",
              "\n",
              "    .dataframe tbody tr th {\n",
              "        vertical-align: top;\n",
              "    }\n",
              "\n",
              "    .dataframe thead th {\n",
              "        text-align: right;\n",
              "    }\n",
              "</style>\n",
              "<table border=\"1\" class=\"dataframe\">\n",
              "  <thead>\n",
              "    <tr style=\"text-align: right;\">\n",
              "      <th></th>\n",
              "      <th>Negative</th>\n",
              "      <th>Positive</th>\n",
              "    </tr>\n",
              "  </thead>\n",
              "  <tbody>\n",
              "    <tr>\n",
              "      <th>Negative</th>\n",
              "      <td>9087</td>\n",
              "      <td>3413</td>\n",
              "    </tr>\n",
              "    <tr>\n",
              "      <th>Positive</th>\n",
              "      <td>3451</td>\n",
              "      <td>9049</td>\n",
              "    </tr>\n",
              "  </tbody>\n",
              "</table>\n",
              "</div>"
            ],
            "text/plain": [
              "          Negative  Positive\n",
              "Negative      9087      3413\n",
              "Positive      3451      9049"
            ]
          },
          "metadata": {
            "tags": []
          },
          "execution_count": 334
        }
      ]
    }
  ]
}